{
 "cells": [
  {
   "cell_type": "markdown",
   "metadata": {},
   "source": [
    "ref: https://janakiev.com/blog/python-shell-commands/"
   ]
  },
  {
   "cell_type": "code",
   "execution_count": 1,
   "metadata": {},
   "outputs": [],
   "source": [
    "import os\n",
    "import sys\n",
    "from tqdm import tqdm"
   ]
  },
  {
   "cell_type": "code",
   "execution_count": 2,
   "metadata": {},
   "outputs": [],
   "source": [
    "job_id = sys.argv[1]\n",
    "#csv_name = sys.argv[2]\n",
    "sc_number_start=0\n",
    "sc_number_end = sys.argv[2]\n",
    "\n",
    "# job_id = \"10642359\"\n",
    "# #csv_name = \"test\"\n",
    "# sc_number_start=0\n",
    "# sc_number_end=2\n",
    "\n",
    "# define the original directory\n",
    "oridir = os.getcwd()\n",
    "# define the filename \n",
    "filename = \"mixing_state_processes_new.sh\"\n",
    "# prefix of the destination\n",
    "p1 = \"/data/keeling/a/zzheng25/d/partmc-simulations/\"\n",
    "p2 = \".bw/scenarios/scenario_\""
   ]
  },
  {
   "cell_type": "code",
   "execution_count": 3,
   "metadata": {},
   "outputs": [
    {
     "name": "stderr",
     "output_type": "stream",
     "text": [
      "100%|██████████| 3/3 [00:06<00:00,  2.19s/it]\n"
     ]
    }
   ],
   "source": [
    "for i in tqdm(range(sc_number_start, sc_number_end+1)):\n",
    "    sc_id = \"%04i\" %i  #define the file number\n",
    "#     print(\"scenario id:\", sc_id)\n",
    "    \n",
    "    dest = p1+job_id+p2+sc_id+\"/\"\n",
    "    dest_file = dest+filename\n",
    "\n",
    "    # define the command\n",
    "    cpcmd = \"cp\"+\" \"+oridir+\"/\"+filename+\" \"+dest_file #copy\n",
    "    cdcmd = \"cd\" # change the directory\n",
    "    execmd = \"bash\"+\" \"+filename # run the bash command\n",
    "#     print(cpcmd)\n",
    "#     print(\"\\n\")\n",
    "#     print(dest)\n",
    "#     print(\"\\n\")\n",
    "#     print(execmd)\n",
    "#     print(\"\\n\")\n",
    "\n",
    "    # run the command\n",
    "    os.system(cpcmd) # copy\n",
    "    os.chdir(dest) # change the directory\n",
    "    os.system(execmd)\n",
    "#     print(\"Done\")"
   ]
  },
  {
   "cell_type": "code",
   "execution_count": null,
   "metadata": {},
   "outputs": [],
   "source": []
  }
 ],
 "metadata": {
  "kernelspec": {
   "display_name": "Python 3",
   "language": "python",
   "name": "python3"
  },
  "language_info": {
   "codemirror_mode": {
    "name": "ipython",
    "version": 3
   },
   "file_extension": ".py",
   "mimetype": "text/x-python",
   "name": "python",
   "nbconvert_exporter": "python",
   "pygments_lexer": "ipython3",
   "version": "3.6.7"
  }
 },
 "nbformat": 4,
 "nbformat_minor": 4
}
